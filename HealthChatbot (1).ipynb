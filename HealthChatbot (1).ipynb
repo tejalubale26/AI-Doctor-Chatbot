{
  "cells": [
    {
      "cell_type": "markdown",
      "metadata": {
        "id": "wmu_AHKxuerP"
      },
      "source": [
        "Step 1: Install the packages"
      ]
    },
    {
      "cell_type": "markdown",
      "source": [],
      "metadata": {
        "id": "SN2WLJWreBOS"
      }
    },
    {
      "cell_type": "code",
      "execution_count": 1,
      "metadata": {
        "id": "wFwjuIR7qUpO",
        "colab": {
          "base_uri": "https://localhost:8080/"
        },
        "outputId": "34e3e22c-39d7-4bec-cea2-584963770a1d"
      },
      "outputs": [
        {
          "output_type": "stream",
          "name": "stdout",
          "text": [
            "\n",
            "Usage:   \n",
            "  pip3 install [options] <requirement specifier> [package-index-options] ...\n",
            "  pip3 install [options] -r <requirements file> [package-index-options] ...\n",
            "  pip3 install [options] [-e] <vcs project url> ...\n",
            "  pip3 install [options] [-e] <local project path> ...\n",
            "  pip3 install [options] <archive url/path> ...\n",
            "\n",
            "no such option: -u\n",
            "\u001b[2K   \u001b[90m━━━━━━━━━━━━━━━━━━━━━━━━━━━━━━━━━━━━━━━━\u001b[0m \u001b[32m1.6/1.6 MB\u001b[0m \u001b[31m38.8 MB/s\u001b[0m eta \u001b[36m0:00:00\u001b[0m\n",
            "\u001b[?25h"
          ]
        }
      ],
      "source": [
        "!pip install google-generativeai -quiet\n",
        "!pip install ipywidgets --quiet\n",
        "!pip install gradio --quiet"
      ]
    },
    {
      "cell_type": "markdown",
      "metadata": {
        "id": "33x4gXnPul2q"
      },
      "source": [
        "Step 2: Install the libraries"
      ]
    },
    {
      "cell_type": "code",
      "execution_count": 2,
      "metadata": {
        "id": "irl8Oi4js9iR"
      },
      "outputs": [],
      "source": [
        "import google.generativeai as genai\n",
        "import os\n",
        "import ipywidgets as widgets\n",
        "from IPython.display import display,Markdown\n",
        "import gradio as gr"
      ]
    },
    {
      "cell_type": "markdown",
      "metadata": {
        "id": "E1gI73kauqQK"
      },
      "source": [
        "Step 3: Setup the Gemini API"
      ]
    },
    {
      "cell_type": "code",
      "execution_count": 3,
      "metadata": {
        "id": "ZsZd_RlPt6-5"
      },
      "outputs": [],
      "source": [
        "# Configure API\n",
        "genai.configure(api_key=\"\")  # Replace this\n",
        "\n",
        "# Reinitialize chat session (do NOT do this multiple times!)\n",
        "model = genai.GenerativeModel(\"gemini-1.5-flash\")\n",
        "chat = model.start_chat()"
      ]
    },
    {
      "cell_type": "markdown",
      "metadata": {
        "id": "akWrhAw7w0bq"
      },
      "source": [
        "Step 4: Chatbot"
      ]
    },
    {
      "cell_type": "code",
      "source": [
        "\n",
        "# Input and output widgets\n",
        "user_input = widgets.Text(\n",
        "    placeholder=\"Ask a health-related question...\",\n",
        "    description=\"You:\",\n",
        "    layout=widgets.Layout(width='100%')\n",
        ")\n",
        "\n",
        "output = widgets.Output()\n",
        "\n",
        "def on_user_submit(sender):\n",
        "    question = user_input.value.strip()\n",
        "    if not question:\n",
        "        return\n",
        "\n",
        "    with output:\n",
        "        display(Markdown(f\"**You:** {question}\"))\n",
        "        display(Markdown(\"_AI Doctor is typing..._\"))\n",
        "\n",
        "    try:\n",
        "        # Send message to Gemini\n",
        "        response = chat.send_message(question)\n",
        "        with output:\n",
        "            display(Markdown(f\"**AI Doctor:** {response.text}\"))\n",
        "    except Exception as e:\n",
        "        with output:\n",
        "            display(Markdown(f\"**Error:** {str(e)}\"))\n",
        "\n",
        "    user_input.value = \"\"  # Clear input field\n",
        "\n",
        "# Connect enter key\n",
        "user_input.on_submit(on_user_submit)\n",
        "\n",
        "# Display widgets\n",
        "display(user_input)\n",
        "display(output)\n"
      ],
      "metadata": {
        "id": "zAUaxEQeN8hI",
        "colab": {
          "base_uri": "https://localhost:8080/",
          "height": 1000,
          "referenced_widgets": [
            "95d2c87d5544459baa6690dfc34641b9",
            "df03c1baaa0c46ebabccfac3d04a249f",
            "d2fb816825a847aaa37c074ed381db26",
            "e43bf81a5179461ca3f868aacf3f98b0",
            "164075bbd3634f07aaa3aca7fcef9346"
          ]
        },
        "outputId": "23424a8a-e1a5-4edc-9a95-890dc955a255"
      },
      "execution_count": 4,
      "outputs": [
        {
          "output_type": "display_data",
          "data": {
            "text/plain": [
              "Text(value='', description='You:', layout=Layout(width='100%'), placeholder='Ask a health-related question...'…"
            ],
            "application/vnd.jupyter.widget-view+json": {
              "version_major": 2,
              "version_minor": 0,
              "model_id": "95d2c87d5544459baa6690dfc34641b9"
            }
          },
          "metadata": {}
        },
        {
          "output_type": "display_data",
          "data": {
            "text/plain": [
              "Output()"
            ],
            "application/vnd.jupyter.widget-view+json": {
              "version_major": 2,
              "version_minor": 0,
              "model_id": "e43bf81a5179461ca3f868aacf3f98b0"
            }
          },
          "metadata": {}
        }
      ]
    },
    {
      "cell_type": "markdown",
      "metadata": {
        "id": "E4iaSqcazFHi"
      },
      "source": [
        "Step 5: GUI (optional)"
      ]
    },
    {
      "cell_type": "code",
      "execution_count": null,
      "metadata": {
        "id": "Z77otts_zTPt"
      },
      "outputs": [],
      "source": []
    }
  ],
  "metadata": {
    "colab": {
      "provenance": []
    },
    "kernelspec": {
      "display_name": "Python 3",
      "name": "python3"
    },
    "language_info": {
      "name": "python"
    },
    "widgets": {
      "application/vnd.jupyter.widget-state+json": {
        "95d2c87d5544459baa6690dfc34641b9": {
          "model_module": "@jupyter-widgets/controls",
          "model_name": "TextModel",
          "model_module_version": "1.5.0",
          "state": {
            "_dom_classes": [],
            "_model_module": "@jupyter-widgets/controls",
            "_model_module_version": "1.5.0",
            "_model_name": "TextModel",
            "_view_count": null,
            "_view_module": "@jupyter-widgets/controls",
            "_view_module_version": "1.5.0",
            "_view_name": "TextView",
            "continuous_update": true,
            "description": "You:",
            "description_tooltip": null,
            "disabled": false,
            "layout": "IPY_MODEL_df03c1baaa0c46ebabccfac3d04a249f",
            "placeholder": "Ask a health-related question...",
            "style": "IPY_MODEL_d2fb816825a847aaa37c074ed381db26",
            "value": ""
          }
        },
        "df03c1baaa0c46ebabccfac3d04a249f": {
          "model_module": "@jupyter-widgets/base",
          "model_name": "LayoutModel",
          "model_module_version": "1.2.0",
          "state": {
            "_model_module": "@jupyter-widgets/base",
            "_model_module_version": "1.2.0",
            "_model_name": "LayoutModel",
            "_view_count": null,
            "_view_module": "@jupyter-widgets/base",
            "_view_module_version": "1.2.0",
            "_view_name": "LayoutView",
            "align_content": null,
            "align_items": null,
            "align_self": null,
            "border": null,
            "bottom": null,
            "display": null,
            "flex": null,
            "flex_flow": null,
            "grid_area": null,
            "grid_auto_columns": null,
            "grid_auto_flow": null,
            "grid_auto_rows": null,
            "grid_column": null,
            "grid_gap": null,
            "grid_row": null,
            "grid_template_areas": null,
            "grid_template_columns": null,
            "grid_template_rows": null,
            "height": null,
            "justify_content": null,
            "justify_items": null,
            "left": null,
            "margin": null,
            "max_height": null,
            "max_width": null,
            "min_height": null,
            "min_width": null,
            "object_fit": null,
            "object_position": null,
            "order": null,
            "overflow": null,
            "overflow_x": null,
            "overflow_y": null,
            "padding": null,
            "right": null,
            "top": null,
            "visibility": null,
            "width": "100%"
          }
        },
        "d2fb816825a847aaa37c074ed381db26": {
          "model_module": "@jupyter-widgets/controls",
          "model_name": "DescriptionStyleModel",
          "model_module_version": "1.5.0",
          "state": {
            "_model_module": "@jupyter-widgets/controls",
            "_model_module_version": "1.5.0",
            "_model_name": "DescriptionStyleModel",
            "_view_count": null,
            "_view_module": "@jupyter-widgets/base",
            "_view_module_version": "1.2.0",
            "_view_name": "StyleView",
            "description_width": ""
          }
        },
        "e43bf81a5179461ca3f868aacf3f98b0": {
          "model_module": "@jupyter-widgets/output",
          "model_name": "OutputModel",
          "model_module_version": "1.0.0",
          "state": {
            "_dom_classes": [],
            "_model_module": "@jupyter-widgets/output",
            "_model_module_version": "1.0.0",
            "_model_name": "OutputModel",
            "_view_count": null,
            "_view_module": "@jupyter-widgets/output",
            "_view_module_version": "1.0.0",
            "_view_name": "OutputView",
            "layout": "IPY_MODEL_164075bbd3634f07aaa3aca7fcef9346",
            "msg_id": "",
            "outputs": [
              {
                "output_type": "display_data",
                "data": {
                  "text/plain": "<IPython.core.display.Markdown object>",
                  "text/markdown": "**You:** How to cure cough?"
                },
                "metadata": {}
              },
              {
                "output_type": "display_data",
                "data": {
                  "text/plain": "<IPython.core.display.Markdown object>",
                  "text/markdown": "_AI Doctor is typing..._"
                },
                "metadata": {}
              },
              {
                "output_type": "display_data",
                "data": {
                  "text/plain": "<IPython.core.display.Markdown object>",
                  "text/markdown": "**AI Doctor:** There's no single cure for a cough, as the treatment depends entirely on the *cause* of the cough.  A cough is a symptom, not a disease itself.  It's your body's way of clearing your airways of irritants or mucus.\n\n**Before attempting any home remedies or over-the-counter medications, it's crucial to determine the underlying cause.  If your cough is severe, persistent (lasts more than 2 weeks), accompanied by other symptoms like fever, chest pain, shortness of breath, or blood in your sputum, see a doctor immediately.**\n\nHere's a breakdown of approaches based on potential causes:\n\n**If your cough is due to a common cold or the flu:**\n\n* **Rest:**  This is crucial for your body to fight off the infection.\n* **Hydration:** Drink plenty of fluids (water, broth, herbal tea) to thin mucus.\n* **Humidifier:**  Adding moisture to the air can soothe irritated airways.\n* **Over-the-counter (OTC) medications:**  Consider these *only as directed by the label and after consulting a pharmacist or doctor, especially if you have other health conditions or are taking other medications:*\n    * **Expectorants:**  (e.g., guaifenesin) help loosen mucus.\n    * **Cough suppressants:** (e.g., dextromethorphan or codeine – codeine requires a prescription) help reduce cough frequency, but are generally not recommended for productive coughs (those bringing up mucus).  They can be counterproductive by preventing the body from clearing irritants.\n* **Honey:**  A spoonful of honey can soothe a cough, especially in adults and children over 1 year old.  (Avoid giving honey to infants under 1 year old.)\n* **Saltwater gargles:** This can help soothe a sore throat associated with a cough.\n\n**If your cough is due to allergies:**\n\n* **Identify and avoid allergens:** This is the most effective treatment.\n* **Antihistamines:**  These can help reduce allergy symptoms, including coughing.\n* **Decongestants:** May help if post-nasal drip is contributing to the cough.\n\n\n**If your cough is due to post-nasal drip:**\n\n* **Saline nasal spray or rinse:**  This helps clear nasal passages.\n* **Decongestants:** May help clear nasal congestion.\n\n**If your cough is due to asthma or other respiratory conditions:**\n\n* **Inhalers:**  As prescribed by your doctor.\n* **Other medications:**  As prescribed by your doctor.\n\n\n**Things to AVOID:**\n\n* **Smoking:**  This significantly irritates the airways and worsens coughs.\n* **Secondhand smoke:**  Avoid exposure.\n* **Irritants:**  Avoid dust, fumes, and other airborne irritants.\n\n\n**In summary:**  Treating a cough effectively requires identifying the underlying cause.  Home remedies can provide temporary relief for some coughs, but for persistent or severe coughs, always seek medical attention.  A doctor can diagnose the cause and recommend the most appropriate treatment.\n"
                },
                "metadata": {}
              },
              {
                "output_type": "display_data",
                "data": {
                  "text/plain": "<IPython.core.display.Markdown object>",
                  "text/markdown": "**You:** What are the symptoms of stress?"
                },
                "metadata": {}
              },
              {
                "output_type": "display_data",
                "data": {
                  "text/plain": "<IPython.core.display.Markdown object>",
                  "text/markdown": "_AI Doctor is typing..._"
                },
                "metadata": {}
              },
              {
                "output_type": "display_data",
                "data": {
                  "text/plain": "<IPython.core.display.Markdown object>",
                  "text/markdown": "**AI Doctor:** Stress symptoms can vary widely from person to person, and they can manifest physically, emotionally, and behaviorally.  Some people experience only a few symptoms, while others experience many.  It's important to remember that experiencing some stress is normal; it's chronic or overwhelming stress that becomes problematic.\n\nHere's a breakdown of common stress symptoms categorized by type:\n\n\n**Physical Symptoms:**\n\n* **Headaches:** Tension headaches and migraines are common.\n* **Muscle tension or pain:**  Often in the neck, shoulders, and back.\n* **Chest pain:**  Can feel like tightness or pressure.\n* **Fatigue:**  Feeling tired and lacking energy.\n* **Sleep problems:**  Insomnia, difficulty falling asleep, or restless sleep.\n* **Digestive problems:**  Stomach aches, nausea, diarrhea, or constipation.\n* **Rapid heartbeat:**  Palpitations or a racing heart.\n* **High blood pressure:**  Chronic stress can contribute to high blood pressure.\n* **Weakened immune system:**  More susceptible to illness.\n* **Weight changes:**  Significant weight gain or loss.\n* **Sexual problems:**  Decreased libido or erectile dysfunction.\n* **Dizziness or lightheadedness:** Feeling faint or unsteady.\n* **Shortness of breath:** Feeling like you can't catch your breath.\n* **Sweating:** Excessive sweating, especially under stress.\n* **Skin problems:**  Eczema, psoriasis, or acne flare-ups.\n\n\n**Emotional Symptoms:**\n\n* **Anxiety:**  Feeling worried, restless, or on edge.\n* **Irritability:**  Feeling easily frustrated or angry.\n* **Depression:**  Feeling sad, hopeless, or losing interest in activities.\n* **Feeling overwhelmed:**  Unable to cope with daily tasks.\n* **Sadness:** Persistent low mood\n* **Lack of motivation:**  Difficulty concentrating or making decisions.\n* **Restlessness:**  Inability to relax.\n* **Nervousness:**  Feeling jumpy or jittery.\n\n\n**Behavioral Symptoms:**\n\n* **Changes in eating habits:**  Overeating or undereating.\n* **Changes in sleep habits:**  Insomnia or sleeping too much.\n* **Social withdrawal:**  Avoiding social interactions.\n* **Procrastination:**  Putting off tasks.\n* **Increased substance use:**  Turning to alcohol, drugs, or tobacco to cope.\n* **Increased use of medication:** Self-medicating with over the counter medications.\n* **Difficulty concentrating:**  Trouble focusing or remembering things.\n* **Aggression:** Increased irritability, anger, or lashing out.\n* **Accident proneness:** Increased risk of accidents due to inattention.\n\n\nIt's important to note that these symptoms can overlap and be subtle.  If you're experiencing several of these symptoms, especially if they're persistent or interfering with your daily life, it's crucial to talk to a doctor or mental health professional.  They can help you determine if stress is the underlying cause and recommend appropriate coping strategies or treatment.\n"
                },
                "metadata": {}
              },
              {
                "output_type": "display_data",
                "data": {
                  "text/plain": "<IPython.core.display.Markdown object>",
                  "text/markdown": "**You:** What is a balance diet?"
                },
                "metadata": {}
              },
              {
                "output_type": "display_data",
                "data": {
                  "text/plain": "<IPython.core.display.Markdown object>",
                  "text/markdown": "_AI Doctor is typing..._"
                },
                "metadata": {}
              },
              {
                "output_type": "display_data",
                "data": {
                  "text/plain": "<IPython.core.display.Markdown object>",
                  "text/markdown": "**AI Doctor:** A balanced diet is one that provides your body with the essential nutrients it needs to function optimally.  This means consuming a variety of foods from all food groups in the right proportions to meet your individual energy needs and support your overall health.  There's no single \"perfect\" balanced diet, as individual needs vary based on age, sex, activity level, and overall health. However, the core principles remain consistent.\n\nHere are the key components of a balanced diet:\n\n* **Fruits and Vegetables:** Aim for a wide variety of colorful fruits and vegetables.  They are rich in vitamins, minerals, antioxidants, and fiber.  Aim for at least five servings a day.\n\n* **Whole Grains:** Choose whole grains over refined grains whenever possible.  Whole grains (like brown rice, quinoa, oats, whole-wheat bread) provide more fiber, which aids digestion and helps regulate blood sugar levels.\n\n* **Lean Protein:**  Protein is essential for building and repairing tissues.  Good sources include lean meats (chicken, fish, turkey), beans, lentils, tofu, eggs, and nuts.\n\n* **Healthy Fats:**  Include healthy fats in moderation.  These are crucial for hormone production, brain function, and nutrient absorption.  Good sources include avocados, nuts, seeds, olive oil, and fatty fish (salmon, tuna).  Limit saturated and trans fats found in processed foods, fried foods, and red meat.\n\n* **Dairy or Dairy Alternatives:**  Dairy products (milk, yogurt, cheese) are good sources of calcium and vitamin D, important for bone health.  If you're lactose intolerant or vegan, choose dairy alternatives like almond milk, soy milk, or fortified plant-based yogurts.\n\n* **Limited Added Sugars and Salt:**  Minimize your intake of added sugars and salt.  These contribute to weight gain, heart disease, and other health problems.  Read food labels carefully and choose foods with lower sodium and sugar content.\n\n* **Hydration:**  Drink plenty of water throughout the day.  Water is essential for many bodily functions.\n\n\n**Portion Control:**  Even with healthy choices, eating too much of anything can be detrimental.  Pay attention to portion sizes to manage your calorie intake and avoid weight gain.\n\n**Variety:**  The key to a balanced diet is variety.  Eating a wide range of foods ensures you get a diverse array of nutrients.  Don't limit yourself to a few favorite foods.\n\n**Individual Needs:**  The specific quantities of each food group will vary depending on individual needs and caloric requirements.  Factors such as age, activity level, and health conditions will influence your dietary needs. Consulting a registered dietitian or nutritionist can help you create a personalized plan.\n\n\nIt's important to remember that a balanced diet is not just about avoiding unhealthy foods; it's about actively choosing nutritious options and creating a sustainable eating pattern that supports your overall well-being.\n"
                },
                "metadata": {}
              }
            ]
          }
        },
        "164075bbd3634f07aaa3aca7fcef9346": {
          "model_module": "@jupyter-widgets/base",
          "model_name": "LayoutModel",
          "model_module_version": "1.2.0",
          "state": {
            "_model_module": "@jupyter-widgets/base",
            "_model_module_version": "1.2.0",
            "_model_name": "LayoutModel",
            "_view_count": null,
            "_view_module": "@jupyter-widgets/base",
            "_view_module_version": "1.2.0",
            "_view_name": "LayoutView",
            "align_content": null,
            "align_items": null,
            "align_self": null,
            "border": null,
            "bottom": null,
            "display": null,
            "flex": null,
            "flex_flow": null,
            "grid_area": null,
            "grid_auto_columns": null,
            "grid_auto_flow": null,
            "grid_auto_rows": null,
            "grid_column": null,
            "grid_gap": null,
            "grid_row": null,
            "grid_template_areas": null,
            "grid_template_columns": null,
            "grid_template_rows": null,
            "height": null,
            "justify_content": null,
            "justify_items": null,
            "left": null,
            "margin": null,
            "max_height": null,
            "max_width": null,
            "min_height": null,
            "min_width": null,
            "object_fit": null,
            "object_position": null,
            "order": null,
            "overflow": null,
            "overflow_x": null,
            "overflow_y": null,
            "padding": null,
            "right": null,
            "top": null,
            "visibility": null,
            "width": null
          }
        }
      }
    }
  },
  "nbformat": 4,
  "nbformat_minor": 0
}